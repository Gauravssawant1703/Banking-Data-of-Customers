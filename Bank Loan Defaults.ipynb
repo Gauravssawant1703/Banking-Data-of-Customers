{
 "cells": [
  {
   "cell_type": "code",
   "execution_count": null,
   "id": "b0b2c5d8",
   "metadata": {},
   "outputs": [],
   "source": [
    "import warnings\n",
    "\n",
    "warnings.filterwarnings('ignore')"
   ]
  },
  {
   "cell_type": "code",
   "execution_count": null,
   "id": "263123be",
   "metadata": {},
   "outputs": [],
   "source": [
    "#importing libraries\n",
    "import numpy as np\n",
    "import pandas as pd\n",
    "import matplotlib.pyplot as plt\n",
    "import seaborn as sns\n",
    "from mpl_toolkits.mplot3d import Axes3D\n",
    "from plotly.offline import init_notebook_mode, iplot\n",
    "import plotly.figure_factory as ff\n",
    "import cufflinks\n",
    "cufflinks.go_offline()\n",
    "cufflinks.set_config_file(world_readable=True, theme='pearl')\n",
    "import plotly.graph_objs as go\n",
    "import plotly\n",
    "from plotly import tools\n",
    "import plotly.express as px\n",
    "from scipy.stats import boxcox\n",
    "init_notebook_mode(connected=True)\n",
    "pd.set_option('display.max_columns', 100)"
   ]
  },
  {
   "cell_type": "code",
   "execution_count": null,
   "id": "1e0b8784",
   "metadata": {},
   "outputs": [],
   "source": [
    "%cd C:\\Users\\Hridai\\Documents\\Data Science\\Assignment no 2"
   ]
  },
  {
   "cell_type": "code",
   "execution_count": null,
   "id": "2ad6ddd1",
   "metadata": {},
   "outputs": [],
   "source": [
    "#Reading the application_data csv file\n",
    "import pandas as pd\n",
    "appdata = pd.read_csv(\"application_data.csv\")\n",
    "appdata.head()"
   ]
  },
  {
   "cell_type": "code",
   "execution_count": null,
   "id": "505d895b",
   "metadata": {},
   "outputs": [],
   "source": [
    "# Checking the number of rows and columns in the dataframe\n",
    "appdata.shape"
   ]
  },
  {
   "cell_type": "code",
   "execution_count": null,
   "id": "862a01b0",
   "metadata": {},
   "outputs": [],
   "source": [
    "appdata.info()"
   ]
  },
  {
   "cell_type": "code",
   "execution_count": null,
   "id": "09c608f9",
   "metadata": {},
   "outputs": [],
   "source": [
    "# Check the summary for the numeric columns\n",
    "appdata.describe()"
   ]
  },
  {
   "cell_type": "code",
   "execution_count": null,
   "id": "ec7c2bef",
   "metadata": {},
   "outputs": [],
   "source": [
    "# Percentage of null values in each column\n",
    "null_perc = appdata.isnull().sum()/len(appdata)*100"
   ]
  },
  {
   "cell_type": "code",
   "execution_count": null,
   "id": "f3ac0d06",
   "metadata": {},
   "outputs": [],
   "source": [
    "null_perc.sort_values(ascending = False).head(50)"
   ]
  },
  {
   "cell_type": "code",
   "execution_count": null,
   "id": "23d8c65b",
   "metadata": {},
   "outputs": [],
   "source": [
    "# List of Columns & NA counts where NA values are more than 35%\n",
    "import matplotlib.pyplot as plt\n",
    "NA_col = appdata.isnull().sum().sort_values(ascending = False)\n",
    "NA_col = NA_col[NA_col.values >(0.35*len(appdata))]\n",
    "plt.figure(figsize=(20,4))\n",
    "NA_col.plot(kind='bar', color=\"#4CB391\")\n",
    "plt.title('List of Columns & NA counts where NA values are more than 35%')\n",
    "plt.show()"
   ]
  },
  {
   "cell_type": "code",
   "execution_count": null,
   "id": "95124995",
   "metadata": {},
   "outputs": [],
   "source": [
    "# Number of columns having percentage of null values > 35%\n",
    "len(NA_col)"
   ]
  },
  {
   "cell_type": "code",
   "execution_count": null,
   "id": "5986fc22",
   "metadata": {},
   "outputs": [],
   "source": [
    "# Function to remove the columns having percentage of null values > 35%\n",
    "def removeNulls(dataframe,percent=0.35):\n",
    "    df = dataframe.copy()\n",
    "    ishape = df.shape\n",
    "    colnames = (df.isnull().sum()/len(df))\n",
    "    colnames = list(colnames[colnames.values>=percent].index)\n",
    "    df.drop(labels = colnames,axis =1,inplace=True)        \n",
    "    print(\"Number of Columns dropped\\t: \",len(colnames))    \n",
    "    print(\"\\nOld dataset rows,columns\",ishape,\"\\nNew dataset rows,columns\",df.shape)\n",
    "    return df"
   ]
  },
  {
   "cell_type": "code",
   "execution_count": null,
   "id": "f39dd589",
   "metadata": {},
   "outputs": [],
   "source": [
    "# Comparision of shape of new and old data sets\n",
    "appdata = removeNulls(appdata,percent = 0.35)"
   ]
  },
  {
   "cell_type": "code",
   "execution_count": null,
   "id": "deee25d4",
   "metadata": {},
   "outputs": [],
   "source": [
    "# Checking the % of null values for each column in new dataset\n",
    "null = appdata.isnull().sum()/len(appdata)*100\n",
    "null.sort_values(ascending = False).head(60)"
   ]
  },
  {
   "cell_type": "code",
   "execution_count": null,
   "id": "48734a51",
   "metadata": {},
   "outputs": [],
   "source": [
    "appdata.OCCUPATION_TYPE.value_counts()"
   ]
  },
  {
   "cell_type": "code",
   "execution_count": null,
   "id": "c2ac4c46",
   "metadata": {},
   "outputs": [],
   "source": [
    "appdata.OCCUPATION_TYPE.mode()"
   ]
  },
  {
   "cell_type": "code",
   "execution_count": null,
   "id": "b60b5558",
   "metadata": {},
   "outputs": [],
   "source": [
    "appdata.AMT_REQ_CREDIT_BUREAU_YEAR.value_counts()"
   ]
  },
  {
   "cell_type": "code",
   "execution_count": null,
   "id": "55b6316a",
   "metadata": {},
   "outputs": [],
   "source": [
    "appdata.AMT_REQ_CREDIT_BUREAU_YEAR.mode()"
   ]
  },
  {
   "cell_type": "code",
   "execution_count": null,
   "id": "236e625a",
   "metadata": {},
   "outputs": [],
   "source": [
    "appdata.AMT_REQ_CREDIT_BUREAU_MON.mode()"
   ]
  },
  {
   "cell_type": "code",
   "execution_count": null,
   "id": "f253723b",
   "metadata": {},
   "outputs": [],
   "source": [
    "appdata.AMT_REQ_CREDIT_BUREAU_WEEK.mode()"
   ]
  },
  {
   "cell_type": "code",
   "execution_count": null,
   "id": "c599753b",
   "metadata": {},
   "outputs": [],
   "source": [
    "appdata.AMT_REQ_CREDIT_BUREAU_DAY.mode()"
   ]
  },
  {
   "cell_type": "code",
   "execution_count": null,
   "id": "4472b432",
   "metadata": {},
   "outputs": [],
   "source": [
    "appdata.AMT_REQ_CREDIT_BUREAU_HOUR.mode()"
   ]
  },
  {
   "cell_type": "code",
   "execution_count": null,
   "id": "e39423f2",
   "metadata": {},
   "outputs": [],
   "source": [
    "appdata.AMT_REQ_CREDIT_BUREAU_QRT.mode()"
   ]
  },
  {
   "cell_type": "code",
   "execution_count": null,
   "id": "4dd31f6f",
   "metadata": {},
   "outputs": [],
   "source": [
    "appdata.AMT_GOODS_PRICE.value_counts() "
   ]
  },
  {
   "cell_type": "code",
   "execution_count": null,
   "id": "4931defb",
   "metadata": {},
   "outputs": [],
   "source": [
    "appdata.AMT_GOODS_PRICE.median()"
   ]
  },
  {
   "cell_type": "code",
   "execution_count": null,
   "id": "23a0a567",
   "metadata": {},
   "outputs": [],
   "source": [
    "appdata.AMT_ANNUITY.value_counts()"
   ]
  },
  {
   "cell_type": "code",
   "execution_count": null,
   "id": "1c881160",
   "metadata": {},
   "outputs": [],
   "source": [
    "#Finding the median\n",
    "appdata.AMT_ANNUITY.median()"
   ]
  },
  {
   "cell_type": "code",
   "execution_count": null,
   "id": "06936747",
   "metadata": {},
   "outputs": [],
   "source": [
    "# Checking the values present in columns starting with 'DAYS'\n",
    "print(appdata['DAYS_BIRTH'].unique())\n",
    "print(appdata['DAYS_EMPLOYED'].unique())\n",
    "print(appdata['DAYS_REGISTRATION'].unique())\n",
    "print(appdata['DAYS_ID_PUBLISH'].unique())\n",
    "print(appdata['DAYS_LAST_PHONE_CHANGE'].unique())"
   ]
  },
  {
   "cell_type": "code",
   "execution_count": null,
   "id": "0fe81190",
   "metadata": {},
   "outputs": [],
   "source": [
    "# The columns starting with 'DAYS'\n",
    "filter_col = [col for col in appdata if col.startswith('DAYS')]\n",
    "filter_col"
   ]
  },
  {
   "cell_type": "code",
   "execution_count": null,
   "id": "e4fc072e",
   "metadata": {},
   "outputs": [],
   "source": [
    "# Applying abs() function to columns starting with 'DAYS' to convert the negative values to positive\n",
    "appdata[filter_col]= abs(appdata[filter_col])"
   ]
  },
  {
   "cell_type": "code",
   "execution_count": null,
   "id": "4bb5ae3b",
   "metadata": {},
   "outputs": [],
   "source": [
    "print(appdata['DAYS_BIRTH'].unique())\n",
    "print(appdata['DAYS_EMPLOYED'].unique())\n",
    "print(appdata['DAYS_REGISTRATION'].unique())\n",
    "print(appdata['DAYS_ID_PUBLISH'].unique())\n",
    "print(appdata['DAYS_LAST_PHONE_CHANGE'].unique())"
   ]
  },
  {
   "cell_type": "code",
   "execution_count": null,
   "id": "65f67479",
   "metadata": {},
   "outputs": [],
   "source": [
    "appdata.describe()"
   ]
  },
  {
   "cell_type": "code",
   "execution_count": null,
   "id": "28418c6c",
   "metadata": {},
   "outputs": [],
   "source": [
    "appdata.CODE_GENDER.value_counts()"
   ]
  },
  {
   "cell_type": "code",
   "execution_count": null,
   "id": "93db6c56",
   "metadata": {},
   "outputs": [],
   "source": [
    "# Replacing XNA value with F\n",
    "appdata.loc[appdata.CODE_GENDER == 'XNA','CODE_GENDER'] = 'F'\n",
    "appdata.CODE_GENDER.value_counts()"
   ]
  },
  {
   "cell_type": "code",
   "execution_count": null,
   "id": "2ed7bda1",
   "metadata": {},
   "outputs": [],
   "source": [
    "appdata.ORGANIZATION_TYPE.value_counts()"
   ]
  },
  {
   "cell_type": "code",
   "execution_count": null,
   "id": "de07506c",
   "metadata": {},
   "outputs": [],
   "source": [
    "# Replacing XNA with NaN\n",
    "import numpy as np\n",
    "appdata = appdata.replace('XNA',np.NaN)"
   ]
  },
  {
   "cell_type": "code",
   "execution_count": null,
   "id": "b1cb12b3",
   "metadata": {},
   "outputs": [],
   "source": [
    "appdata.ORGANIZATION_TYPE.value_counts()"
   ]
  },
  {
   "cell_type": "code",
   "execution_count": null,
   "id": "b15a2946",
   "metadata": {},
   "outputs": [],
   "source": [
    "# Binning 'AMT_INCOME_RANGE' based on quantiles\n",
    "appdata['AMT_INCOME_RANGE'] = pd.qcut(appdata.AMT_INCOME_TOTAL, q=[0, 0.2, 0.5, 0.8, 0.95, 1], labels=['VERY_LOW', 'LOW', \"MEDIUM\", 'HIGH', 'VERY_HIGH'])\n",
    "appdata['AMT_INCOME_RANGE'].head(11)"
   ]
  },
  {
   "cell_type": "code",
   "execution_count": null,
   "id": "95c57685",
   "metadata": {},
   "outputs": [],
   "source": [
    "# Binning 'AMT_CREDIT_RANGE' by creating various ranges\n",
    "appdata['AMT_CREDIT_RANGE'] = pd.qcut(appdata.AMT_CREDIT, q=[0, 0.2, 0.5, 0.8, 0.95, 1], labels=['VERY_LOW', 'LOW', \"MEDIUM\", 'HIGH', 'VERY_HIGH'])\n",
    "appdata['AMT_CREDIT_RANGE'].head(11)"
   ]
  },
  {
   "cell_type": "code",
   "execution_count": null,
   "id": "fd636833",
   "metadata": {},
   "outputs": [],
   "source": [
    "appdata['AMT_CREDIT_RANGE'].head(10)"
   ]
  },
  {
   "cell_type": "code",
   "execution_count": null,
   "id": "ef89ce88",
   "metadata": {},
   "outputs": [],
   "source": [
    "# Converting 'DAYS_BIRTH' to years\n",
    "appdata['DAYS_BIRTH']= (appdata['DAYS_BIRTH']/365).astype(int)"
   ]
  },
  {
   "cell_type": "code",
   "execution_count": null,
   "id": "7b02fb10",
   "metadata": {},
   "outputs": [],
   "source": [
    "appdata['DAYS_BIRTH'].unique()"
   ]
  },
  {
   "cell_type": "code",
   "execution_count": null,
   "id": "a2a25955",
   "metadata": {},
   "outputs": [],
   "source": [
    "# Biining 'DAYS_BIRTH'\n",
    "appdata['DAYS_BIRTH_BINS']=pd.cut(appdata['DAYS_BIRTH'], bins=[19,25,35,60,100], labels=['Very_Young','Young', 'Middle_Age', 'Senior_Citizen'])"
   ]
  },
  {
   "cell_type": "code",
   "execution_count": null,
   "id": "6a64664f",
   "metadata": {},
   "outputs": [],
   "source": [
    "appdata['DAYS_BIRTH_BINS'].value_counts()"
   ]
  },
  {
   "cell_type": "code",
   "execution_count": null,
   "id": "f1e3fa36",
   "metadata": {},
   "outputs": [],
   "source": [
    "# boxplot for 'AMT_INCOME_TOTAL' column to check the outliers\n",
    "import sys\n",
    "!conda install --yes --prefix {sys.prefix} plotly\n",
    "import matplotlib.pyplot as plt\n",
    "import seaborn as sns\n",
    "from mpl_toolkits.mplot3d import Axes3D\n",
    "from plotly.offline import init_notebook_mode, iplot\n",
    "import plotly.figure_factory as ff\n",
    "import plotly.graph_objs as go\n",
    "import plotly\n",
    "from plotly import tools\n",
    "import plotly.express as px\n",
    "from scipy.stats import boxcox\n",
    "init_notebook_mode(connected=True)\n",
    "pd.set_option('display.max_columns', 100)\n",
    "fig = px.box(appdata, y=\"AMT_INCOME_TOTAL\",title='Distribution of AMT_INCOME_TOTAL' )\n",
    "fig.show()"
   ]
  },
  {
   "cell_type": "code",
   "execution_count": null,
   "id": "c7654139",
   "metadata": {},
   "outputs": [],
   "source": [
    "# distribution of 'DAYS_EMPLOYED'\n",
    "sns.set(rc={'figure.figsize':(20,10)})\n",
    "sns.distplot(appdata['DAYS_EMPLOYED'], color=\"#4CB391\" )\n",
    "plt.title('Distribution of DAYS_EMPLOYED', fontdict={'fontsize':20} )\n",
    "plt.show()"
   ]
  },
  {
   "cell_type": "code",
   "execution_count": null,
   "id": "858ad8bd",
   "metadata": {},
   "outputs": [],
   "source": [
    "fig = px.box(appdata, y=\"DAYS_BIRTH\",title='Distribution of DAYS_BIRTH' )\n",
    "fig.show()"
   ]
  },
  {
   "cell_type": "code",
   "execution_count": null,
   "id": "e10de3c5",
   "metadata": {},
   "outputs": [],
   "source": [
    "fig = px.box(appdata, y=\"AMT_ANNUITY\",title='Distribution of AMT_ANNUITY' )\n",
    "fig.show()"
   ]
  },
  {
   "cell_type": "code",
   "execution_count": null,
   "id": "c471e6a3",
   "metadata": {},
   "outputs": [],
   "source": [
    "fig = px.box(appdata, y=\"DAYS_REGISTRATION\", title='Distribution of DAYS_REGISTRATION' )\n",
    "fig.show()"
   ]
  },
  {
   "cell_type": "code",
   "execution_count": null,
   "id": "f0487287",
   "metadata": {},
   "outputs": [],
   "source": [
    "# Distribution of 'OCCUPATION_TYPE'\n",
    "!{sys.executable} -m pip install cufflinks\n",
    "from mpl_toolkits.mplot3d import Axes3D\n",
    "from plotly.offline import init_notebook_mode, iplot\n",
    "import plotly.figure_factory as ff\n",
    "import cufflinks\n",
    "cufflinks.go_offline()\n",
    "cufflinks.set_config_file(world_readable=True, theme='pearl')\n",
    "import plotly.graph_objs as go\n",
    "import plotly\n",
    "from plotly import tools\n",
    "import plotly.express as px\n",
    "from scipy.stats import boxcox\n",
    "init_notebook_mode(connected=True)\n",
    "pd.set_option('display.max_columns', 100)\n",
    "temp = appdata[\"OCCUPATION_TYPE\"].value_counts()\n",
    "temp.iplot(kind='bar', xTitle = 'Occupation', yTitle = \"Count\", title = 'Occupation of Applicant\\'s who applied for loan', color = 'green')"
   ]
  },
  {
   "cell_type": "code",
   "execution_count": null,
   "id": "1d4ed274",
   "metadata": {},
   "outputs": [],
   "source": [
    "# Distribution of 'ORGANIZATION_TYPE'\n",
    "temp = appdata[\"ORGANIZATION_TYPE\"].value_counts()\n",
    "temp.iplot(kind='bar', xTitle = 'Organization Name', yTitle = \"Count\", title = 'Types of Organizations who applied for loan ', color = 'red')"
   ]
  },
  {
   "cell_type": "code",
   "execution_count": null,
   "id": "fdeaab52",
   "metadata": {},
   "outputs": [],
   "source": [
    "im = appdata[\"TARGET\"].value_counts()\n",
    "df = pd.DataFrame({'labels': im.index,'values': im.values})\n",
    "df.iplot(kind='pie',labels='labels',values='values', title='Target Imbalance Distribution', hole = 0.5)"
   ]
  },
  {
   "cell_type": "code",
   "execution_count": null,
   "id": "5834bd9e",
   "metadata": {},
   "outputs": [],
   "source": [
    "# Dividing the original dataset into two different datasets depending upon the target value\n",
    "target0 = appdata.loc[appdata.TARGET == 0]\n",
    "target1 = appdata.loc[appdata.TARGET == 1]"
   ]
  },
  {
   "cell_type": "code",
   "execution_count": null,
   "id": "5928080b",
   "metadata": {},
   "outputs": [],
   "source": [
    "# Gender Distibution of Loan Non-Payment Difficulties\n",
    "a0 = target0[\"CODE_GENDER\"].value_counts()\n",
    "df = pd.DataFrame({'labels': a0.index,'values': a0.values})\n",
    "df.iplot(kind='pie',labels='labels',values='values', title='Gender Distibution of Loan- Non Payment Difficulties', hole = 0.5)"
   ]
  },
  {
   "cell_type": "code",
   "execution_count": null,
   "id": "834e66fd",
   "metadata": {},
   "outputs": [],
   "source": [
    "# Gender Distibution of Loan Payment Difficulties\n",
    "a1 = target1[\"CODE_GENDER\"].value_counts()\n",
    "df = pd.DataFrame({'labels': a1.index,'values': a1.values})\n",
    "df.iplot(kind='pie',labels='labels',values='values', title='Gender Distribution of Loan Payment Difficulties', hole = 0.5)"
   ]
  },
  {
   "cell_type": "code",
   "execution_count": null,
   "id": "4199015d",
   "metadata": {},
   "outputs": [],
   "source": [
    "# Income sources of Loan- Non Payment Difficulties\n",
    "b0 = target0[\"NAME_INCOME_TYPE\"].value_counts()\n",
    "df = pd.DataFrame({'labels': b0.index,'values': b0.values})\n",
    "df.iplot(kind='pie',labels='labels',values='values', title='Income sources of Loan- Non Payment Difficulties', hole = 0.5)"
   ]
  },
  {
   "cell_type": "code",
   "execution_count": null,
   "id": "6ae7b643",
   "metadata": {},
   "outputs": [],
   "source": [
    "# Income sources of Loan Payment Difficulties\n",
    "b1 = target1[\"NAME_INCOME_TYPE\"].value_counts()\n",
    "df = pd.DataFrame({'labels': b1.index,'values': b1.values})\n",
    "df.iplot(kind='pie',labels='labels',values='values', title='Income sources of Loan Payment Difficulties', hole = 0.5)"
   ]
  },
  {
   "cell_type": "code",
   "execution_count": null,
   "id": "6aaaa815",
   "metadata": {},
   "outputs": [],
   "source": [
    "# Family Status of Loan- Non Payment Difficulties\n",
    "c0 = target0[\"NAME_FAMILY_STATUS\"].value_counts()\n",
    "df = pd.DataFrame({'labels': c0.index,'values': c0.values})\n",
    "df.iplot(kind='pie',labels='labels',values='values', title='Family Status of Loan- Non Payment Difficulties', hole = 0.5)"
   ]
  },
  {
   "cell_type": "code",
   "execution_count": null,
   "id": "e0a1a668",
   "metadata": {},
   "outputs": [],
   "source": [
    "# Family Status of Loan Payment Difficulties\n",
    "c1 = target1[\"NAME_FAMILY_STATUS\"].value_counts()\n",
    "df = pd.DataFrame({'labels': c1.index,'values': c1.values})\n",
    "df.iplot(kind='pie',labels='labels',values='values', title='Family Status of Loan Payment Difficulties', hole = 0.5)"
   ]
  },
  {
   "cell_type": "code",
   "execution_count": null,
   "id": "e4311d4b",
   "metadata": {},
   "outputs": [],
   "source": [
    "# Education of Loan- Non Payment Difficulties\n",
    "d0 = target0[\"NAME_EDUCATION_TYPE\"].value_counts()\n",
    "df = pd.DataFrame({'labels': d0.index,'values': d0.values})\n",
    "df.iplot(kind='pie',labels='labels',values='values', title='Education of Loan- Non Payment Difficulties', hole = 0.5)"
   ]
  },
  {
   "cell_type": "code",
   "execution_count": null,
   "id": "7d7733ad",
   "metadata": {},
   "outputs": [],
   "source": [
    "# Education of Loan Payment Difficulties\n",
    "d1 = target1[\"NAME_EDUCATION_TYPE\"].value_counts()\n",
    "df = pd.DataFrame({'labels': d1.index,'values': d1.values})\n",
    "df.iplot(kind='pie',labels='labels',values='values', title='Education of Loan Payment Difficulties', hole = 0.5)"
   ]
  },
  {
   "cell_type": "code",
   "execution_count": null,
   "id": "8149842d",
   "metadata": {},
   "outputs": [],
   "source": [
    "# Type of House of Loan- Non Payment Difficulties\n",
    "e0 = target0[\"NAME_HOUSING_TYPE\"].value_counts()\n",
    "df = pd.DataFrame({'labels': e0.index,'values': e0.values})\n",
    "df.iplot(kind='pie',labels='labels',values='values', title='Type of House of Loan-Non Payment Difficulties', hole = 0.5)"
   ]
  },
  {
   "cell_type": "code",
   "execution_count": null,
   "id": "b4e4059e",
   "metadata": {},
   "outputs": [],
   "source": [
    "# Type of House of Payment Difficulties\n",
    "e1 = target1[\"NAME_HOUSING_TYPE\"].value_counts()\n",
    "df = pd.DataFrame({'labels': e1.index,'values': e1.values})\n",
    "df.iplot(kind='pie',labels='labels',values='values', title='Type of House of Loan Payment Difficulties', hole = 0.5)"
   ]
  },
  {
   "cell_type": "code",
   "execution_count": null,
   "id": "61cb882c",
   "metadata": {},
   "outputs": [],
   "source": [
    "# Income range of Loan-Non Payment Difficulties\n",
    "f0 = target0[\"AMT_INCOME_RANGE\"].value_counts()\n",
    "df = pd.DataFrame({'labels': f0.index,'values': f0.values})\n",
    "df.iplot(kind='pie',labels='labels',values='values', title='Income range of Loan-Non Payment Difficulties', hole = 0.5)"
   ]
  },
  {
   "cell_type": "code",
   "execution_count": null,
   "id": "6e352f8c",
   "metadata": {},
   "outputs": [],
   "source": [
    "# Income range of Loan Payment Difficulties\n",
    "f1 = target1[\"AMT_INCOME_RANGE\"].value_counts()\n",
    "df = pd.DataFrame({'labels': f1.index,'values': f1.values})\n",
    "df.iplot(kind='pie',labels='labels',values='values', title='Income range of Loan Payment Difficulties', hole = 0.5)"
   ]
  },
  {
   "cell_type": "code",
   "execution_count": null,
   "id": "6eeef27f",
   "metadata": {},
   "outputs": [],
   "source": [
    "# Age of Loan-Non Payment Difficulties\n",
    "g0 = target0[\"DAYS_BIRTH_BINS\"].value_counts()\n",
    "df = pd.DataFrame({'labels': g0.index,'values': g0.values})\n",
    "df.iplot(kind='pie',labels='labels',values='values', title='Age of Loan-Non Payment Difficulties', hole = 0.5)"
   ]
  },
  {
   "cell_type": "code",
   "execution_count": null,
   "id": "a390a12b",
   "metadata": {},
   "outputs": [],
   "source": [
    "# Age of Loan Payment Difficulties\n",
    "g1 = target1[\"DAYS_BIRTH_BINS\"].value_counts()\n",
    "df = pd.DataFrame({'labels': g1.index,'values': g1.values})\n",
    "df.iplot(kind='pie',labels='labels',values='values', title='Age of Loan Payment Difficulties', hole = 0.5)"
   ]
  },
  {
   "cell_type": "code",
   "execution_count": null,
   "id": "80ccd1ea",
   "metadata": {},
   "outputs": [],
   "source": [
    "# Types of Loans taken by Loan-Non Payment Difficulties \n",
    "h0 = target0[\"NAME_CONTRACT_TYPE\"].value_counts()\n",
    "df = pd.DataFrame({'labels': h0.index,'values': h0.values})\n",
    "df.iplot(kind='pie',labels='labels',values='values', title='Types of Loans taken by Loan-Non Payment Difficulties', hole = 0.5)"
   ]
  },
  {
   "cell_type": "code",
   "execution_count": null,
   "id": "af52e6d6",
   "metadata": {},
   "outputs": [],
   "source": [
    "# Types of Loans taken by Loan Payment Difficulties\n",
    "h1 = target1[\"NAME_CONTRACT_TYPE\"].value_counts()\n",
    "df = pd.DataFrame({'labels': h1.index,'values': h1.values})\n",
    "df.iplot(kind='pie',labels='labels',values='values', title='Types of Loans taken by Loan Payment Difficulties', hole = 0.5)"
   ]
  },
  {
   "cell_type": "code",
   "execution_count": null,
   "id": "b6fd2e09",
   "metadata": {},
   "outputs": [],
   "source": [
    "# Loan-Non Payment Difficulties are Accompanied by\n",
    "i0 = target0[\"NAME_TYPE_SUITE\"].value_counts()\n",
    "df = pd.DataFrame({'labels': i0.index,'values': i0.values})\n",
    "df.iplot(kind='pie',labels='labels',values='values', title='Loan-Non Payment Difficulties are Accompanyed by', hole = 0.5)"
   ]
  },
  {
   "cell_type": "code",
   "execution_count": null,
   "id": "f57f77c8",
   "metadata": {},
   "outputs": [],
   "source": [
    "# Loan Payment Difficulties are Accompanied by\n",
    "i1 = target1[\"NAME_TYPE_SUITE\"].value_counts()\n",
    "df = pd.DataFrame({'labels': i1.index,'values': i1.values})\n",
    "df.iplot(kind='pie',labels='labels',values='values', title='Loan Payment Difficulties are Accompanyed by', hole = 0.5)"
   ]
  },
  {
   "cell_type": "code",
   "execution_count": null,
   "id": "0fb079fa",
   "metadata": {},
   "outputs": [],
   "source": [
    "# Types of Organizations who applied for loan - Non-Payment Difficulties\n",
    "j0 = target0[\"ORGANIZATION_TYPE\"].value_counts()\n",
    "df = pd.DataFrame({'labels': j0.index,'values': j0.values})\n",
    "df.iplot(kind='pie',labels='labels',values='values', title='Types of Organizations who applied for loan - Non-Payment Difficulties', hole = 0.5)"
   ]
  },
  {
   "cell_type": "code",
   "execution_count": null,
   "id": "ef4c7015",
   "metadata": {},
   "outputs": [],
   "source": [
    "# Types of Organizations who applied for loan - Payment Difficulties\n",
    "j1 = target1[\"ORGANIZATION_TYPE\"].value_counts()\n",
    "df = pd.DataFrame({'labels': j1.index,'values': j1.values})\n",
    "df.iplot(kind='pie',labels='labels',values='values', title='Types of Organizations who applied for loan - Payment Difficulties', hole = 0.5)"
   ]
  },
  {
   "cell_type": "code",
   "execution_count": null,
   "id": "c0af257b",
   "metadata": {},
   "outputs": [],
   "source": [
    "# Types of Organizations who applied for loan - Non-Payment Difficulties\n",
    "temp = target0[\"ORGANIZATION_TYPE\"].value_counts()\n",
    "temp.iplot(kind='bar', xTitle = 'Organization Name', yTitle = \"Count\", title = 'Types of Organizations who applied for loan - Non-Payment Difficulties ', color = '#4CB391')"
   ]
  },
  {
   "cell_type": "code",
   "execution_count": null,
   "id": "ffb61b98",
   "metadata": {},
   "outputs": [],
   "source": [
    "# Types of Organizations who applied for loan - Payment Difficulties\n",
    "temp = target1[\"ORGANIZATION_TYPE\"].value_counts()\n",
    "temp.iplot(kind='bar', xTitle = 'Organization Name', yTitle = \"Count\", title = 'Types of Organizations who applied for loan - Payment Difficulties ', color = '#4CB391')"
   ]
  },
  {
   "cell_type": "code",
   "execution_count": null,
   "id": "3247b868",
   "metadata": {},
   "outputs": [],
   "source": [
    "# Function for univariate plots\n",
    "def uni(df,col,hue =None):\n",
    "    sns.set(style=\"darkgrid\")\n",
    "    fig, ax=plt.subplots(nrows =1,ncols=2,figsize=(20,8))\n",
    "    ax[0].set_title(\"Distribution Plot\")\n",
    "    sns.distplot(df[~df[col].isna()][col],ax=ax[0], color=\"#4CB391\")\n",
    "    plt.yscale('log')\n",
    "    ax[1].set_title(\"Box Plot\")\n",
    "    sns.boxplot(data =df, x=col,ax=ax[1],orient='v', color=\"#4CB391\")\n",
    "    plt.yscale('log')\n",
    "    plt.show()"
   ]
  },
  {
   "cell_type": "code",
   "execution_count": null,
   "id": "094c11f4",
   "metadata": {},
   "outputs": [],
   "source": [
    "# Distribution and Box plot for 'AMT_ANNUITY' for Loan Non-Payment Difficulties\n",
    "uni(df=target0,col='AMT_ANNUITY')"
   ]
  },
  {
   "cell_type": "code",
   "execution_count": null,
   "id": "d2d4ba80",
   "metadata": {},
   "outputs": [],
   "source": [
    "# Distribution and Box plot for 'AMT_ANNUITY' for Loan- Payment Difficulties\n",
    "uni(df=target1,col='AMT_ANNUITY')"
   ]
  },
  {
   "cell_type": "code",
   "execution_count": null,
   "id": "f3f1a964",
   "metadata": {},
   "outputs": [],
   "source": [
    "# Distribution and Box plot for 'AMT_CREDIT' for Loan Non-Payment Difficulties\n",
    "uni(df=target0,col='AMT_CREDIT')"
   ]
  },
  {
   "cell_type": "code",
   "execution_count": null,
   "id": "5e0f56f8",
   "metadata": {},
   "outputs": [],
   "source": [
    "# Distribution and Box plot for 'AMT_CREDIT' for Loan Payment Difficulties\n",
    "uni(df=target1,col='AMT_CREDIT')"
   ]
  },
  {
   "cell_type": "code",
   "execution_count": null,
   "id": "9897a89f",
   "metadata": {},
   "outputs": [],
   "source": [
    "# Distribution and Box plot for 'AMT_GOODS_PRICE' for Loan- Non-Payment Difficulties\n",
    "uni(df=target0,col='AMT_GOODS_PRICE')"
   ]
  },
  {
   "cell_type": "code",
   "execution_count": null,
   "id": "ef3ae331",
   "metadata": {},
   "outputs": [],
   "source": [
    "# Distribution and Box plot for 'AMT_GOODS_PRICE' for Loan-Payment Difficulties\n",
    "uni(df=target1,col='AMT_GOODS_PRICE')"
   ]
  },
  {
   "cell_type": "code",
   "execution_count": null,
   "id": "135efc6c",
   "metadata": {},
   "outputs": [],
   "source": [
    "# 'NAME_EDUCATION_TYPE' vs 'AMT_CREDIT' for Loan - Non Payment Difficulties\n",
    "fig = px.box(target0, x=\"NAME_EDUCATION_TYPE\", y=\"AMT_CREDIT\", color='NAME_FAMILY_STATUS',\n",
    "             title=\"Credit amount vs Education of Loan- Non Payment Difficulties\")\n",
    "fig.show()"
   ]
  },
  {
   "cell_type": "code",
   "execution_count": null,
   "id": "172bd363",
   "metadata": {},
   "outputs": [],
   "source": [
    "# 'NAME_EDUCATION_TYPE' vs 'AMT_CREDIT' for Loan Payment Difficulties\n",
    "fig = px.box(target1, x=\"NAME_EDUCATION_TYPE\", y=\"AMT_CREDIT\", color='NAME_FAMILY_STATUS',\n",
    "                title=\"Credit amount vs Education of Loan Payment Difficulties\")\n",
    "\n",
    "fig.show()"
   ]
  },
  {
   "cell_type": "code",
   "execution_count": null,
   "id": "395e4337",
   "metadata": {},
   "outputs": [],
   "source": [
    "# 'AMT_INCOME_RANGE' vs 'AMT_CREDIT' for Loan - Non Payment Difficulties\n",
    "fig = px.box(target0, x=\"AMT_INCOME_RANGE\", y=\"AMT_CREDIT\", color='NAME_FAMILY_STATUS',\n",
    "                title=\"Income range vs Credit amount of Loan Non- Payment Difficulties\")\n",
    "\n",
    "fig.show()"
   ]
  },
  {
   "cell_type": "code",
   "execution_count": null,
   "id": "63bdb814",
   "metadata": {},
   "outputs": [],
   "source": [
    "# 'AMT_INCOME_RANGE' vs 'AMT_CREDIT' for Loan Payment Difficulties\n",
    "fig = px.box(target1, x=\"AMT_INCOME_RANGE\", y=\"AMT_CREDIT\", color='NAME_FAMILY_STATUS',\n",
    "                title=\"Income range vs Credit amount of Loan Payment Difficulties\")\n",
    "\n",
    "fig.show()"
   ]
  },
  {
   "cell_type": "code",
   "execution_count": null,
   "id": "91ce052e",
   "metadata": {},
   "outputs": [],
   "source": [
    "# Function for bivariate plots\n",
    "from plotly.subplots import make_subplots\n",
    "import plotly.graph_objects as go\n",
    "def biplot(df,feature,title):\n",
    "    temp = df[feature].value_counts()\n",
    "    \n",
    "    # Calculate the percentage of target=1 per category value\n",
    "    perc = df[[feature, 'TARGET']].groupby([feature],as_index=False).mean()\n",
    "    perc.sort_values(by='TARGET', ascending=False, inplace=True)\n",
    "\n",
    "    fig = make_subplots(rows=1, cols=2,subplot_titles=(\"Count of \"+ title,\"% of Loan Payment difficulties within each category\"))\n",
    "\n",
    "\n",
    "    fig.add_trace(go.Bar(x=temp.index, y=temp.values),row=1, col=1)\n",
    "    fig.add_trace(go.Bar(x=perc[feature].to_list(), y=perc['TARGET'].to_list()),row=1, col=2)\n",
    "    fig['layout']['xaxis']['title']=feature\n",
    "    fig['layout']['xaxis2']['title']=feature\n",
    "    fig['layout']['yaxis']['title']='Count'\n",
    "    fig['layout']['yaxis2']['title']='% of Loan Payment Difficulties'\n",
    "    fig.update_layout(height=600, width=1000, title_text=title, showlegend=False)\n",
    "    fig.show()"
   ]
  },
  {
   "cell_type": "code",
   "execution_count": null,
   "id": "e40be414",
   "metadata": {},
   "outputs": [],
   "source": [
    "# Distribution of income range and the category with maximum Loan-Payment Difficulties\n",
    "biplot(appdata ,'AMT_INCOME_RANGE','Income range')"
   ]
  },
  {
   "cell_type": "code",
   "execution_count": null,
   "id": "17e10153",
   "metadata": {},
   "outputs": [],
   "source": [
    "# Distribution of income range and the category with maximum Loan-Payment Difficulties\n",
    "biplot(appdata ,'NAME_INCOME_TYPE','Income type')"
   ]
  },
  {
   "cell_type": "code",
   "execution_count": null,
   "id": "36cf5c41",
   "metadata": {},
   "outputs": [],
   "source": [
    "# Distribution of Contract Type and the category with maximum Loan-Payment Difficulties\n",
    "biplot(appdata ,'NAME_CONTRACT_TYPE','Contract type')"
   ]
  },
  {
   "cell_type": "code",
   "execution_count": null,
   "id": "cdc3c661",
   "metadata": {},
   "outputs": [],
   "source": [
    "# Distribution of Education Type and the category with maximum Loan-Payment Difficulties\n",
    "biplot(appdata ,'NAME_EDUCATION_TYPE','Education type')"
   ]
  },
  {
   "cell_type": "code",
   "execution_count": null,
   "id": "9cbf72a6",
   "metadata": {},
   "outputs": [],
   "source": [
    "# Distribution of Occupation Type and the category with maximum Loan-Payment Difficulties\n",
    "biplot(appdata ,'OCCUPATION_TYPE','Occupation type')"
   ]
  },
  {
   "cell_type": "code",
   "execution_count": null,
   "id": "7ca14b2b",
   "metadata": {},
   "outputs": [],
   "source": [
    "table= pd.pivot_table(appdata, values='TARGET', index=['CODE_GENDER','AMT_INCOME_RANGE'],columns=['NAME_EDUCATION_TYPE'], aggfunc=np.mean)"
   ]
  },
  {
   "cell_type": "code",
   "execution_count": null,
   "id": "2c428fb3",
   "metadata": {},
   "outputs": [],
   "source": [
    "table"
   ]
  },
  {
   "cell_type": "code",
   "execution_count": null,
   "id": "5a0641b8",
   "metadata": {},
   "outputs": [],
   "source": [
    "#Pairplot for Target 0 (Loan-Non Payment Difficulties)\n",
    "pair = target0[['AMT_CREDIT', 'AMT_ANNUITY', 'AMT_INCOME_TOTAL', 'AMT_GOODS_PRICE', 'DAYS_BIRTH']].fillna(0)\n",
    "sns.pairplot(pair)\n",
    "\n",
    "plt.show()"
   ]
  },
  {
   "cell_type": "code",
   "execution_count": null,
   "id": "19170ad2",
   "metadata": {},
   "outputs": [],
   "source": [
    "#Pairplot for Target 1 (Loan-Payment Difficulties)\n",
    "pair = target1[['AMT_CREDIT', 'AMT_ANNUITY', 'AMT_INCOME_TOTAL', 'AMT_GOODS_PRICE', 'DAYS_BIRTH']].fillna(0)\n",
    "sns.pairplot(pair)\n",
    "\n",
    "plt.show()"
   ]
  },
  {
   "cell_type": "code",
   "execution_count": null,
   "id": "a187cced",
   "metadata": {},
   "outputs": [],
   "source": [
    "# Heatmap for Loan- Non Payment Difficulties\n",
    "target0[['AMT_GOODS_PRICE','AMT_INCOME_TOTAL','AMT_ANNUITY','DAYS_EMPLOYED','DAYS_BIRTH',\n",
    "         'DAYS_REGISTRATION', 'DAYS_ID_PUBLISH',\n",
    "         'AMT_CREDIT',]].corr(method = 'pearson').iplot(kind='heatmap',colorscale=\"Blues\",title=\"Correlation Heatmap of Loan- Non Payment Difficulties\")"
   ]
  },
  {
   "cell_type": "code",
   "execution_count": null,
   "id": "0acbb4bb",
   "metadata": {},
   "outputs": [],
   "source": [
    "# Heatmap for Loan-Payment Difficulties\n",
    "target1[['AMT_GOODS_PRICE','AMT_INCOME_TOTAL','AMT_ANNUITY','DAYS_EMPLOYED',\n",
    "  'DAYS_BIRTH', 'DAYS_REGISTRATION', 'DAYS_ID_PUBLISH',\n",
    "  'AMT_CREDIT']].corr(method = 'pearson').iplot(kind='heatmap',colorscale=\"Blues\",title=\"Correlation Heatmap of Loan-Payment Difficulties\")"
   ]
  },
  {
   "cell_type": "code",
   "execution_count": null,
   "id": "56b9eaff",
   "metadata": {},
   "outputs": [],
   "source": [
    "corr=target1[['AMT_GOODS_PRICE','AMT_INCOME_TOTAL','AMT_ANNUITY','DAYS_EMPLOYED',\n",
    "  'DAYS_BIRTH', 'DAYS_REGISTRATION', 'DAYS_ID_PUBLISH',\n",
    "  'AMT_CREDIT']].corr(method = 'pearson')\n",
    "corr=corr.where(np.triu(np.ones(corr.shape),k=1).astype(np.bool))\n",
    "corr_df=corr.unstack().reset_index()"
   ]
  },
  {
   "cell_type": "code",
   "execution_count": null,
   "id": "3c774cb8",
   "metadata": {},
   "outputs": [],
   "source": [
    "corr_df.columns = ['VAR1','VAR2','CORRELATION']\n",
    "corr_df.dropna(subset=['CORRELATION'],inplace=True)\n",
    "corr_df['CORR_ABS']=corr_df['CORRELATION'].abs()"
   ]
  },
  {
   "cell_type": "code",
   "execution_count": null,
   "id": "09153ab9",
   "metadata": {},
   "outputs": [],
   "source": [
    "corr_df.sort_values('CORR_ABS', ascending=False).head(10)"
   ]
  },
  {
   "cell_type": "code",
   "execution_count": null,
   "id": "1baf19f1",
   "metadata": {},
   "outputs": [],
   "source": [
    "# loading the previous_application.csv\n",
    "appdata_prev= pd.read_csv('previous_application.csv')"
   ]
  },
  {
   "cell_type": "code",
   "execution_count": null,
   "id": "8070c8ed",
   "metadata": {},
   "outputs": [],
   "source": [
    "# chnaging the negative values in the columns whose name start with DAYS to positive values.\n",
    "filter_col = [col for col in appdata_prev if col.startswith('DAYS')]\n",
    "appdata_prev[filter_col]= abs(appdata_prev[filter_col])"
   ]
  },
  {
   "cell_type": "code",
   "execution_count": null,
   "id": "06d2a98f",
   "metadata": {},
   "outputs": [],
   "source": [
    "appdata_prev.head()"
   ]
  },
  {
   "cell_type": "code",
   "execution_count": null,
   "id": "aecce8c6",
   "metadata": {},
   "outputs": [],
   "source": [
    "# XNA and XAP are replaced by NaN\n",
    "appdata_prev=appdata_prev.replace('XNA', np.NaN)\n",
    "appdata_prev=appdata_prev.replace('XAP', np.NaN)"
   ]
  },
  {
   "cell_type": "code",
   "execution_count": null,
   "id": "2bf21745",
   "metadata": {},
   "outputs": [],
   "source": [
    "# Value counts of Contract Status in previous application\n",
    "appdata_prev['NAME_CONTRACT_STATUS'].value_counts()"
   ]
  },
  {
   "cell_type": "code",
   "execution_count": null,
   "id": "248e5daf",
   "metadata": {},
   "outputs": [],
   "source": [
    "# Contract status of previous application\n",
    "temp = appdata_prev[\"NAME_CONTRACT_STATUS\"].value_counts()\n",
    "df = pd.DataFrame({'labels': temp.index,'values': temp.values})\n",
    "df.iplot(kind='pie',labels='labels',values='values', title='Contract status of previous application',colors=['#75efff','#7e7e7e','#75e757', '#ea7c96',])"
   ]
  },
  {
   "cell_type": "code",
   "execution_count": null,
   "id": "b97745f9",
   "metadata": {},
   "outputs": [],
   "source": [
    "# On which day clients applied for loan in previous data and their counts\n",
    "temp = appdata_prev[\"WEEKDAY_APPR_PROCESS_START\"].value_counts()\n",
    "temp.iplot(kind='bar', xTitle = 'Weekday', yTitle = \"Count\", title = 'On which day clients applied for loan in previous data and their counts', colors=['#75a275'])"
   ]
  },
  {
   "cell_type": "code",
   "execution_count": null,
   "id": "ba5f6e94",
   "metadata": {},
   "outputs": [],
   "source": [
    "# Payment method that client choose to pay for the previous application\n",
    "temp = appdata_prev[\"NAME_PAYMENT_TYPE\"].value_counts()\n",
    "df = pd.DataFrame({'labels': temp.index,'values': temp.values})\n",
    "df.iplot(kind='pie',labels='labels',values='values', title='Payment method that client choose to pay for the previous application',colors=['#75e575','#7e7e7e','#ea7c96',])"
   ]
  },
  {
   "cell_type": "code",
   "execution_count": null,
   "id": "59a9c931",
   "metadata": {},
   "outputs": [],
   "source": [
    "# Reasons of previous application rejection\n",
    "temp = appdata_prev[\"CODE_REJECT_REASON\"].value_counts()\n",
    "temp.iplot(kind='bar', xTitle = 'Reason', yTitle = \"Count\", title = 'Reasons of previous application rejection', colors=['#75a275'])"
   ]
  },
  {
   "cell_type": "code",
   "execution_count": null,
   "id": "b287f306",
   "metadata": {},
   "outputs": [],
   "source": [
    "# Was the client old or new client when applying for the previous application\n",
    "temp = appdata_prev[\"NAME_CLIENT_TYPE\"].value_counts()\n",
    "df = pd.DataFrame({'labels': temp.index,'values': temp.values})\n",
    "df.iplot(kind='pie',labels='labels',values='values', title='Was the client old or new client when applying for the previous application',colors=['#ea7c96','#75f445','#75e575',])"
   ]
  },
  {
   "cell_type": "code",
   "execution_count": null,
   "id": "f6156e85",
   "metadata": {},
   "outputs": [],
   "source": [
    "# Was the previous application for CASH, POS, CAR, CARDS\n",
    "temp = appdata_prev[\"NAME_PORTFOLIO\"].value_counts()\n",
    "df = pd.DataFrame({'labels': temp.index,'values': temp.values})\n",
    "df.iplot(kind='pie',labels='labels',values='values', title='Was the previous application for CASH, POS, CAR, CARDS',colors=['#75efff','#7e7e7e','#75e757', '#ea7c96','#fe2345'])"
   ]
  },
  {
   "cell_type": "code",
   "execution_count": null,
   "id": "de221985",
   "metadata": {},
   "outputs": [],
   "source": [
    "# What kind of goods did the client apply for in the previous application\n",
    "temp = appdata_prev[\"NAME_GOODS_CATEGORY\"].value_counts()\n",
    "temp.iplot(kind='bar', xTitle = 'GOODS CATEGORY', yTitle = \"Count\", title = 'What kind of goods did the client apply for in the previous application', colors=['#75a275'])"
   ]
  },
  {
   "cell_type": "code",
   "execution_count": null,
   "id": "36925037",
   "metadata": {},
   "outputs": [],
   "source": [
    "uni(df=appdata_prev,col='AMT_ANNUITY')"
   ]
  },
  {
   "cell_type": "code",
   "execution_count": null,
   "id": "e8a2e0d0",
   "metadata": {},
   "outputs": [],
   "source": [
    "uni(df=appdata_prev,col='AMT_CREDIT')"
   ]
  },
  {
   "cell_type": "code",
   "execution_count": null,
   "id": "b7a0fe1e",
   "metadata": {},
   "outputs": [],
   "source": [
    "uni(df=appdata_prev,col='AMT_GOODS_PRICE')"
   ]
  },
  {
   "cell_type": "code",
   "execution_count": null,
   "id": "7f7b95c1",
   "metadata": {},
   "outputs": [],
   "source": [
    "# Taking SK_ID_CURR and TARGET column from application data for further analysis\n",
    "appdata_new=appdata[['SK_ID_CURR','TARGET']]"
   ]
  },
  {
   "cell_type": "code",
   "execution_count": null,
   "id": "bf158c19",
   "metadata": {},
   "outputs": [],
   "source": [
    "appdata_new"
   ]
  },
  {
   "cell_type": "code",
   "execution_count": null,
   "id": "6a33802a",
   "metadata": {},
   "outputs": [],
   "source": [
    "# merging application and previous application data on 'SK_ID_CURR'\n",
    "appdata_merge = appdata_new.merge(appdata_prev,on='SK_ID_CURR', how='inner')\n",
    "appdata_merge.shape"
   ]
  },
  {
   "cell_type": "code",
   "execution_count": null,
   "id": "cb12959b",
   "metadata": {},
   "outputs": [],
   "source": [
    "# Distribution of Contract Status and its category with maximum % of Loan-Payment Difficulties\n",
    "biplot(appdata_merge,'NAME_CONTRACT_STATUS', 'CONTRACT STATUS')"
   ]
  },
  {
   "cell_type": "code",
   "execution_count": null,
   "id": "706c4596",
   "metadata": {},
   "outputs": [],
   "source": [
    "# Distribution of Contract Status and its category with maximum % of Loan-Payment Difficulties \n",
    "biplot(appdata_merge,'NAME_CONTRACT_TYPE', 'CONTRACT TYPE')"
   ]
  },
  {
   "cell_type": "code",
   "execution_count": null,
   "id": "11971776",
   "metadata": {},
   "outputs": [],
   "source": [
    "# Distribution of Payment Type and its category with maximum % of Loan-Payment Difficulties\n",
    "biplot(appdata_merge,'NAME_PAYMENT_TYPE', 'PAYMENT TYPE')"
   ]
  },
  {
   "cell_type": "code",
   "execution_count": null,
   "id": "3c8cb243",
   "metadata": {},
   "outputs": [],
   "source": [
    "# Distribution of Client Type and its category with maximum % of Loan-Payment Difficulties \n",
    "biplot(appdata_merge,'NAME_CLIENT_TYPE', 'CLIENT TYPE')"
   ]
  },
  {
   "cell_type": "code",
   "execution_count": null,
   "id": "4f5b776d",
   "metadata": {},
   "outputs": [],
   "source": [
    "# Distribution of Cash Loan Purpose and its category with maximum % of Loan-Payment Difficulties \n",
    "biplot(appdata_merge,'NAME_CASH_LOAN_PURPOSE', 'CASH LOAN PURPOSE')"
   ]
  },
  {
   "cell_type": "code",
   "execution_count": null,
   "id": "9557508a",
   "metadata": {},
   "outputs": [],
   "source": [
    "table = pd.pivot_table(appdata_merge, values='TARGET', index=['NAME_CLIENT_TYPE'],columns=['NAME_CONTRACT_STATUS'], aggfunc=np.mean)"
   ]
  },
  {
   "cell_type": "code",
   "execution_count": null,
   "id": "edc1d663",
   "metadata": {},
   "outputs": [],
   "source": [
    "table"
   ]
  },
  {
   "cell_type": "code",
   "execution_count": null,
   "id": "3cda09de",
   "metadata": {},
   "outputs": [],
   "source": [
    "ax = table.T.plot(kind='bar')\n",
    "ylab = ax.set_ylabel('% of Loan-Payment Difficulties')\n",
    "plt.title('% of Loan Payment Difficulties for NAME_CONTRACT_STATUS and NAME_CLIENT_TYPE', fontdict={'fontsize':20})\n",
    "plt.show()"
   ]
  },
  {
   "cell_type": "code",
   "execution_count": null,
   "id": "510af2b2",
   "metadata": {},
   "outputs": [],
   "source": [
    "table = pd.pivot_table(appdata_merge, values='TARGET', index=['NAME_CONTRACT_TYPE'],columns=['NAME_CONTRACT_STATUS'], aggfunc=np.mean)\n"
   ]
  },
  {
   "cell_type": "code",
   "execution_count": null,
   "id": "d090fd62",
   "metadata": {},
   "outputs": [],
   "source": [
    "table"
   ]
  },
  {
   "cell_type": "code",
   "execution_count": null,
   "id": "aa730d15",
   "metadata": {},
   "outputs": [],
   "source": [
    "ax = table.T.plot(kind='bar')\n",
    "ylab = ax.set_ylabel('% of Loan-Payment Difficulties')\n",
    "plt.title('% of Loan Payment Difficulties for NAME_CONTRACT_STATUS and NAME_CONTRACT_TYPE', fontdict={'fontsize':20})\n",
    "plt.show()"
   ]
  }
 ],
 "metadata": {
  "kernelspec": {
   "display_name": "Python 3",
   "language": "python",
   "name": "python3"
  },
  "language_info": {
   "codemirror_mode": {
    "name": "ipython",
    "version": 3
   },
   "file_extension": ".py",
   "mimetype": "text/x-python",
   "name": "python",
   "nbconvert_exporter": "python",
   "pygments_lexer": "ipython3",
   "version": "3.8.8"
  }
 },
 "nbformat": 4,
 "nbformat_minor": 5
}
